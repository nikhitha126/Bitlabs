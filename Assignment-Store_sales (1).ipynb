{
 "cells": [
  {
   "cell_type": "markdown",
   "id": "d736cf34-e043-4789-91b0-c19887e0143f",
   "metadata": {},
   "source": [
    "# Assignment on Store_sales dataset\n",
    "\n",
    "**Load the Dataset**"
   ]
  },
  {
   "cell_type": "code",
   "execution_count": 1,
   "id": "fd79e268-0bd3-4844-af8d-0b1e2b7ceea6",
   "metadata": {},
   "outputs": [
    {
     "name": "stdout",
     "output_type": "stream",
     "text": [
      "<class 'pandas.core.frame.DataFrame'>\n",
      "RangeIndex: 100 entries, 0 to 99\n",
      "Data columns (total 14 columns):\n",
      " #   Column    Non-Null Count  Dtype \n",
      "---  ------    --------------  ----- \n",
      " 0   store_id  100 non-null    object\n",
      " 1   city      100 non-null    object\n",
      " 2   Jan       100 non-null    int64 \n",
      " 3   Feb       100 non-null    int64 \n",
      " 4   Mar       100 non-null    int64 \n",
      " 5   Apr       100 non-null    int64 \n",
      " 6   May       100 non-null    int64 \n",
      " 7   Jun       100 non-null    int64 \n",
      " 8   July      100 non-null    int64 \n",
      " 9   Aug       100 non-null    int64 \n",
      " 10  Sep       100 non-null    int64 \n",
      " 11  Oct       100 non-null    int64 \n",
      " 12  Nov       100 non-null    int64 \n",
      " 13  Dec       100 non-null    int64 \n",
      "dtypes: int64(12), object(2)\n",
      "memory usage: 11.1+ KB\n",
      "None\n"
     ]
    }
   ],
   "source": [
    "import pandas as pd\n",
    "sales=pd.read_csv(\"store_sales.csv\")\n",
    "print(sales.info())\n"
   ]
  },
  {
   "cell_type": "markdown",
   "id": "13b8009e-28aa-4c56-8804-a6c417182541",
   "metadata": {},
   "source": [
    "**Calculate the total sales for each store across all months.**"
   ]
  },
  {
   "cell_type": "code",
   "execution_count": 21,
   "id": "3f148a00-b0e5-4caf-85d3-3483c4f62697",
   "metadata": {},
   "outputs": [
    {
     "name": "stdout",
     "output_type": "stream",
     "text": [
      "    total_sales\n",
      "0           178\n",
      "1           174\n",
      "2           181\n",
      "3           135\n",
      "4           159\n",
      "..          ...\n",
      "95          185\n",
      "96          154\n",
      "97          168\n",
      "98          173\n",
      "99          180\n",
      "\n",
      "[100 rows x 1 columns]\n"
     ]
    }
   ],
   "source": [
    "sales['total_sales'] = sales.iloc[:, 2:14].sum(axis=1)\n",
    "print(sales[['total_sales']])"
   ]
  },
  {
   "cell_type": "markdown",
   "id": "47673b50-bfea-4eb6-9e50-918e87c7c1ff",
   "metadata": {},
   "source": [
    "**Find the average sales for each month across all stores**"
   ]
  },
  {
   "cell_type": "code",
   "execution_count": 22,
   "id": "cfea1028-bd85-4552-ab60-936a13c7d84b",
   "metadata": {},
   "outputs": [
    {
     "name": "stdout",
     "output_type": "stream",
     "text": [
      "Jan     14.46\n",
      "Feb     15.09\n",
      "Mar     14.56\n",
      "Apr     14.57\n",
      "May     13.56\n",
      "Jun     13.80\n",
      "July    14.38\n",
      "Aug     15.81\n",
      "Sep     14.91\n",
      "Oct     14.10\n",
      "Nov     15.31\n",
      "Dec     13.57\n",
      "dtype: float64\n"
     ]
    }
   ],
   "source": [
    "avg=sales.iloc[:,2:14].mean()\n",
    "print(avg)\n"
   ]
  },
  {
   "cell_type": "markdown",
   "id": "6dd912e0-9984-42b8-9bf0-db10a69a300c",
   "metadata": {},
   "source": [
    "**Identify the store with the highest total sales.**"
   ]
  },
  {
   "cell_type": "code",
   "execution_count": 4,
   "id": "dca54b78-dbe5-4095-8e14-e1a73c34dff6",
   "metadata": {},
   "outputs": [
    {
     "name": "stdout",
     "output_type": "stream",
     "text": [
      "store_id             S_62\n",
      "city           California\n",
      "Jan                    16\n",
      "Feb                    21\n",
      "Mar                     6\n",
      "Apr                    22\n",
      "May                    22\n",
      "Jun                     9\n",
      "July                   21\n",
      "Aug                    21\n",
      "Sep                    22\n",
      "Oct                    17\n",
      "Nov                    16\n",
      "Dec                    21\n",
      "total_sales           214\n",
      "Name: 61, dtype: object\n"
     ]
    }
   ],
   "source": [
    "max_sales=sales.loc[sales['total_sales'].idxmax()]\n",
    "print(max_sales)"
   ]
  },
  {
   "cell_type": "markdown",
   "id": "1c6e048a-7dbe-4975-8126-0ff9d46d0b8d",
   "metadata": {},
   "source": [
    "**Calculate the total sales for each city.**"
   ]
  },
  {
   "cell_type": "code",
   "execution_count": 14,
   "id": "98fdf5f3-5721-4353-b34d-713e98c20450",
   "metadata": {},
   "outputs": [
    {
     "name": "stdout",
     "output_type": "stream",
     "text": [
      "city\n",
      "Arizona       3951\n",
      "California    7522\n",
      "Texas         5939\n",
      "Name: total_sales, dtype: int64\n"
     ]
    }
   ],
   "source": [
    "city_sales = sales.groupby('city')['total_sales'].sum()\n",
    "print(city_sales)\n"
   ]
  },
  {
   "cell_type": "markdown",
   "id": "b9cd0e10-c37e-485a-9b6b-e6a67cd19c7d",
   "metadata": {},
   "source": [
    "**List stores with total sales greater than 200**"
   ]
  },
  {
   "cell_type": "code",
   "execution_count": 20,
   "id": "a1134ab7-96fe-416c-8da1-daddad0064e6",
   "metadata": {},
   "outputs": [
    {
     "name": "stdout",
     "output_type": "stream",
     "text": [
      "   store_id  total_sales\n",
      "37     S_38          207\n",
      "39     S_40          204\n",
      "50     S_51          210\n",
      "61     S_62          214\n",
      "69     S_70          206\n",
      "72     S_73          213\n",
      "77     S_78          211\n",
      "85     S_86          214\n",
      "86     S_87          203\n",
      "92     S_93          204\n"
     ]
    }
   ],
   "source": [
    "list_store=sales[sales['total_sales'] > 200]\n",
    "print(list_store[['store_id','total_sales']])"
   ]
  },
  {
   "cell_type": "markdown",
   "id": "00a46208-69b2-4577-9f68-c278af43c557",
   "metadata": {},
   "source": [
    "**Which month had the highest average sales across all stores?**\n"
   ]
  },
  {
   "cell_type": "code",
   "execution_count": 27,
   "id": "9b85a613-a4b4-499c-9782-97e585120f52",
   "metadata": {},
   "outputs": [
    {
     "name": "stdout",
     "output_type": "stream",
     "text": [
      "Aug\n"
     ]
    }
   ],
   "source": [
    "high_month=avg.idxmax()\n",
    "print(high_month)"
   ]
  },
  {
   "cell_type": "markdown",
   "id": "37455b7e-1c05-45d5-9dd1-454527319264",
   "metadata": {},
   "source": [
    "**Which city generated the most revenue?**"
   ]
  },
  {
   "cell_type": "code",
   "execution_count": 34,
   "id": "0ceea861-e5f6-4a86-86f0-788d68a898a5",
   "metadata": {},
   "outputs": [
    {
     "name": "stdout",
     "output_type": "stream",
     "text": [
      "The city with the highest revenue is California with a total revenue of 7522\n"
     ]
    }
   ],
   "source": [
    "highest_revenue = city_sales.idxmax()\n",
    "print(f\"The city with the highest revenue is {highest_revenue} with a total revenue of {city_sales[highest_revenue]}\")\n"
   ]
  }
 ],
 "metadata": {
  "kernelspec": {
   "display_name": "Python 3 (ipykernel)",
   "language": "python",
   "name": "python3"
  },
  "language_info": {
   "codemirror_mode": {
    "name": "ipython",
    "version": 3
   },
   "file_extension": ".py",
   "mimetype": "text/x-python",
   "name": "python",
   "nbconvert_exporter": "python",
   "pygments_lexer": "ipython3",
   "version": "3.9.13"
  }
 },
 "nbformat": 4,
 "nbformat_minor": 5
}
